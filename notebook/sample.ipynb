{
 "cells": [
  {
   "cell_type": "markdown",
   "metadata": {},
   "source": [
    "## fit_transform() 和 np.c_[   ]"
   ]
  },
  {
   "cell_type": "code",
   "execution_count": 26,
   "metadata": {},
   "outputs": [],
   "source": [
    "import numpy as np\n",
    "import pandas as pd\n",
    "from sklearn.preprocessing import StandardScaler\n",
    "from sklearn.ensemble import RandomForestRegressor"
   ]
  },
  {
   "cell_type": "code",
   "execution_count": 45,
   "metadata": {},
   "outputs": [],
   "source": [
    "arr_X = np.array(\n",
    "   [\n",
    "    [1.5, -1., 2.,5,7],\n",
    "    [2., 0., 0.5,-1,2]\n",
    "    ]\n",
    "  )\n",
    "\n",
    "\n",
    "X_train,y_train=(\n",
    "        arr_X[:,:-1],\n",
    "        arr_X[:,-1],\n",
    "      )"
   ]
  },
  {
   "cell_type": "code",
   "execution_count": 59,
   "metadata": {},
   "outputs": [
    {
     "name": "stdout",
     "output_type": "stream",
     "text": [
      "raw [shape:(2, 5)]:\n",
      "[[ 1.5 -1.   2.   5.   7. ]\n",
      " [ 2.   0.   0.5 -1.   2. ]]\n",
      "X_train [shape:(2, 4)]:\n",
      "[[ 1.5 -1.   2.   5. ]\n",
      " [ 2.   0.   0.5 -1. ]]\n",
      "y_train [shape:(2,)]:\n",
      "[7. 2.]\n"
     ]
    }
   ],
   "source": [
    "print(f\"raw [shape:{arr_X.shape}]:\\n{arr_X}\")\n",
    "print(f\"X_train [shape:{X_train.shape}]:\\n{X_train}\")\n",
    "print(f\"y_train [shape:{y_train.shape}]:\\n{y_train}\")"
   ]
  },
  {
   "cell_type": "code",
   "execution_count": 60,
   "metadata": {},
   "outputs": [
    {
     "data": {
      "text/plain": [
       "((2, 3), (2,))"
      ]
     },
     "execution_count": 60,
     "metadata": {},
     "output_type": "execute_result"
    }
   ],
   "source": [
    "arr_X = np.array(\n",
    "   [\n",
    "    [1.5, -1., 2.],\n",
    "    [2., 0., 0.]\n",
    "    ]\n",
    "  )\n",
    "#x_np=pd.DataFrame(arr_np)\n",
    "#x_np=np.array(df_np)\n",
    "arr_y=np.array(\n",
    "  [5,8\n",
    "    # [5],\n",
    "    # [8]\n",
    "  ]\n",
    ")\n",
    "\n",
    "rf=RandomForestRegressor(random_state=42)\n",
    "rf.fit(arr_X,arr_y)\n",
    "params=rf.get_params()\n",
    "arr_X.shape,arr_y.shape"
   ]
  },
  {
   "cell_type": "code",
   "execution_count": 73,
   "metadata": {},
   "outputs": [
    {
     "data": {
      "text/plain": [
       "(array([6.8]), numpy.ndarray)"
      ]
     },
     "execution_count": 73,
     "metadata": {},
     "output_type": "execute_result"
    }
   ],
   "source": [
    "test_X = np.array(\n",
    "   [\n",
    "    [2.5, -5., 1.]\n",
    "    ]\n",
    "  )\n",
    "test_y_pred=rf.predict(test_X)\n",
    "test_y_pred,type(test_y_pred)"
   ]
  },
  {
   "cell_type": "code",
   "execution_count": 74,
   "metadata": {},
   "outputs": [
    {
     "name": "stdout",
     "output_type": "stream",
     "text": [
      "[6.8]\n"
     ]
    }
   ],
   "source": [
    "print(test_y_pred)"
   ]
  },
  {
   "cell_type": "code",
   "execution_count": 76,
   "metadata": {},
   "outputs": [
    {
     "data": {
      "text/plain": [
       "6.8"
      ]
     },
     "execution_count": 76,
     "metadata": {},
     "output_type": "execute_result"
    }
   ],
   "source": [
    "test_y_pred[0]"
   ]
  },
  {
   "cell_type": "code",
   "execution_count": 36,
   "metadata": {},
   "outputs": [
    {
     "name": "stdout",
     "output_type": "stream",
     "text": [
      "arr_np: \n",
      " [[ 1.5 -1.   2. ]\n",
      " [ 2.   0.   0. ]]\n",
      "x_np: \n",
      "      0    1    2\n",
      "0  1.5 -1.0  2.0\n",
      "1  2.0  0.0  0.0\n",
      "y_np: \n",
      " [[5]\n",
      " [8]]\n",
      "x_train: \n",
      " [[-1. -1.  1.]\n",
      " [ 1.  1. -1.]]\n",
      "x_train and y_np: \n",
      " [[-1. -1.  1.  5.]\n",
      " [ 1.  1. -1.  8.]]\n",
      "type of x_np: <class 'numpy.ndarray'>\n",
      "------------------------------\n",
      "矩阵初值为：\n",
      "     0    1    2\n",
      "0  1.5 -1.0  2.0\n",
      "1  2.0  0.0  0.0\n",
      "该矩阵的均值为：[ 1.75 -0.5   1.  ]\n",
      "该矩阵的标准差为：[0.25 0.5  1.  ]\n",
      "标准差标准化的矩阵为:\n",
      "[[-1. -1.  1.]\n",
      " [ 1.  1. -1.]]\n"
     ]
    }
   ],
   "source": [
    "arr_np = np.array(\n",
    "   [\n",
    "    [1.5, -1., 2.],\n",
    "    [2., 0., 0.]\n",
    "    ]\n",
    "  )\n",
    "x_np=pd.DataFrame(arr_np)\n",
    "#x_np=np.array(df_np)\n",
    "y_np=np.array(\n",
    "  [\n",
    "    [5],\n",
    "    [8]\n",
    "  ]\n",
    ")\n",
    "scaler = StandardScaler()\n",
    "x_train = scaler.fit_transform(x_np)\n",
    "\n",
    "print(\"arr_np: \\n\",arr_np)\n",
    "#print(\"df_np: \\n\",df_np)\n",
    "print(\"x_np: \\n\",x_np)\n",
    "print(\"y_np: \\n\",y_np)\n",
    "print(\"x_train: \\n\",x_train)\n",
    "print(\"x_train and y_np: \\n\",np.c_[x_train,y_np])\n",
    "print(\"type of x_np:\",type(x_train))\n",
    "\n",
    "print(\"-\"*30)\n",
    "print('矩阵初值为：\\n{}'.format(x_np))\n",
    "print('该矩阵的均值为：{}\\n该矩阵的标准差为：{}'.format(scaler.mean_,np.sqrt(scaler.var_)))\n",
    "print('标准差标准化的矩阵为:\\n{}'.format(x_train))"
   ]
  },
  {
   "cell_type": "code",
   "execution_count": 2,
   "metadata": {},
   "outputs": [
    {
     "name": "stdout",
     "output_type": "stream",
     "text": [
      "{'peter': 25, 'jim': 36, 'jack': 20}\n"
     ]
    }
   ],
   "source": [
    "dic_value={\n",
    "  \"peter\":25,\n",
    "  \"jim\":36,\n",
    "  \"jack\":20\n",
    "}\n",
    "print(dic_value)"
   ]
  },
  {
   "cell_type": "code",
   "execution_count": 12,
   "metadata": {},
   "outputs": [
    {
     "name": "stdout",
     "output_type": "stream",
     "text": [
      "{'peter': 25, 'jim': 36, 'jack': 20}\n",
      "dict_values([25, 36, 20])\n"
     ]
    },
    {
     "data": {
      "text/plain": [
       "([20, 25, 36], list)"
      ]
     },
     "execution_count": 12,
     "metadata": {},
     "output_type": "execute_result"
    }
   ],
   "source": [
    "print(dic_value)\n",
    "dv=dic_value.values()\n",
    "print(dv)\n",
    "best=sorted(dv)\n",
    "\n",
    "best,type(best)"
   ]
  },
  {
   "cell_type": "code",
   "execution_count": 35,
   "metadata": {},
   "outputs": [
    {
     "name": "stdout",
     "output_type": "stream",
     "text": [
      "['peter', 'jim', 'jack']\n"
     ]
    }
   ],
   "source": [
    "list_value=list(dic_value)\n",
    "print(list_value)"
   ]
  },
  {
   "cell_type": "code",
   "execution_count": 36,
   "metadata": {},
   "outputs": [
    {
     "data": {
      "text/plain": [
       "['peter', 'jim', 'jack']"
      ]
     },
     "execution_count": 36,
     "metadata": {},
     "output_type": "execute_result"
    }
   ],
   "source": [
    "list_keys=list(dic_value.keys())\n",
    "list_keys"
   ]
  },
  {
   "cell_type": "code",
   "execution_count": 14,
   "metadata": {},
   "outputs": [
    {
     "data": {
      "text/plain": [
       "[25, 36, 20]"
      ]
     },
     "execution_count": 14,
     "metadata": {},
     "output_type": "execute_result"
    }
   ],
   "source": [
    "list_values=list(dic_value.values())\n",
    "list_values"
   ]
  },
  {
   "cell_type": "code",
   "execution_count": 21,
   "metadata": {},
   "outputs": [
    {
     "data": {
      "text/plain": [
       "2"
      ]
     },
     "execution_count": 21,
     "metadata": {},
     "output_type": "execute_result"
    }
   ],
   "source": [
    "lindex=list(dic_value.values()).index(20)\n",
    "lindex"
   ]
  },
  {
   "cell_type": "code",
   "execution_count": 22,
   "metadata": {},
   "outputs": [
    {
     "data": {
      "text/plain": [
       "'jack'"
      ]
     },
     "execution_count": 22,
     "metadata": {},
     "output_type": "execute_result"
    }
   ],
   "source": [
    "name=list(dic_value.keys())[lindex]\n",
    "name"
   ]
  }
 ],
 "metadata": {
  "kernelspec": {
   "display_name": "Python 3",
   "language": "python",
   "name": "python3"
  },
  "language_info": {
   "codemirror_mode": {
    "name": "ipython",
    "version": 3
   },
   "file_extension": ".py",
   "mimetype": "text/x-python",
   "name": "python",
   "nbconvert_exporter": "python",
   "pygments_lexer": "ipython3",
   "version": "3.8.0"
  },
  "orig_nbformat": 4
 },
 "nbformat": 4,
 "nbformat_minor": 2
}
